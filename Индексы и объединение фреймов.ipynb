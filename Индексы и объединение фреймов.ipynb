{
 "cells": [
  {
   "cell_type": "code",
   "execution_count": 1,
   "id": "357eb938",
   "metadata": {},
   "outputs": [
    {
     "name": "stdout",
     "output_type": "stream",
     "text": [
      "                       РЕГИОН   2017\n",
      "0        Российская Федерация  14.44\n",
      "1           БЕЛГОРОДСКАЯ ОБЛ.   9.83\n",
      "2               БРЯНСКАЯ ОБЛ.  12.46\n",
      "3           ВЛАДИМИРСКАЯ ОБЛ.  12.38\n",
      "4           ВОРОНЕЖСКАЯ  ОБЛ.  16.19\n",
      "..                        ...    ...\n",
      "87           САХАЛИНСКАЯ ОБЛ.  13.01\n",
      "88             ЕВРЕЙСКАЯ А.О.  13.29\n",
      "89             ЧУКОТСКИЙ А.О.   9.48\n",
      "90  Дальневосточный фед.округ  13.03\n",
      "91            РЕСПУБЛИКА КРЫМ    NaN\n",
      "\n",
      "[92 rows x 2 columns]\n"
     ]
    }
   ],
   "source": [
    "import pandas as pd\n",
    "data=pd.read_csv(\"https://video.ittensive.com/python-advanced/internet-2017.csv\", na_values=\"NA\", decimal=\",\", skiprows=1, names=[\"Регион\",\"2017\"], index_col=\"Регион\")  \n",
    "data.index.name=\"РЕГИОН\"\n",
    "data=data.reset_index()\n",
    "print(data)"
   ]
  },
  {
   "cell_type": "code",
   "execution_count": null,
   "id": "c5ae2c0f",
   "metadata": {},
   "outputs": [],
   "source": []
  }
 ],
 "metadata": {
  "kernelspec": {
   "display_name": "Python 3 (ipykernel)",
   "language": "python",
   "name": "python3"
  },
  "language_info": {
   "codemirror_mode": {
    "name": "ipython",
    "version": 3
   },
   "file_extension": ".py",
   "mimetype": "text/x-python",
   "name": "python",
   "nbconvert_exporter": "python",
   "pygments_lexer": "ipython3",
   "version": "3.9.6"
  }
 },
 "nbformat": 4,
 "nbformat_minor": 5
}
