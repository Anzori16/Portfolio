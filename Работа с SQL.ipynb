{
 "cells": [
  {
   "cell_type": "code",
   "execution_count": 10,
   "id": "f81b5a5a",
   "metadata": {},
   "outputs": [
    {
     "ename": "SyntaxError",
     "evalue": "invalid syntax (749770367.py, line 38)",
     "output_type": "error",
     "traceback": [
      "\u001b[1;36m  Cell \u001b[1;32mIn [10], line 38\u001b[1;36m\u001b[0m\n\u001b[1;33m    sudo chmod 775 /var/www/mysite\u001b[0m\n\u001b[1;37m         ^\u001b[0m\n\u001b[1;31mSyntaxError\u001b[0m\u001b[1;31m:\u001b[0m invalid syntax\n"
     ]
    }
   ],
   "source": [
    "import sqlite3\n",
    "import requests\n",
    "from bs4 import BeautifulSoup\n",
    "    \n",
    "def find_number(text):\n",
    "    return int(\"0\" + \"\".join(i for i in text if i.isdigit()))\n",
    "def find_data (link):\n",
    "    r = requests.get(\"https://beru.ru\" + link)\n",
    "    html = BeautifulSoup(r.content)\n",
    "    title = html.find(\"h1\", {\"class\": \"_3TfWusA7bt\"}).get_text()\n",
    "    price = find_number(html.find(\"span\", {\"data-tid\": \"c3eaad93\"}).get_text())\n",
    "    tags = html.find_all(\"span\", {\"class\": \"_112Tad-7AP\"})\n",
    "    width = 0\n",
    "    depth = 0\n",
    "    height = 0\n",
    "    volume = 0\n",
    "    freezer = 0\n",
    "    for tag in tags:\n",
    "        tag = tag.get_text()\n",
    "        if tag.find(\"ШхВхГ\") > -1:\n",
    "            dims = tag.split(\":\")[1].split(\"х\")\n",
    "            width = float(dims[0])\n",
    "            depth = float(dims[1])\n",
    "            height = float(dims[2].split(\" \")[0])\n",
    "        if tag.find(\"общий объем\") > -1:\n",
    "            volume = find_number(tag)\n",
    "        if tag.find(\"объем холодильной камеры\") > -1:\n",
    "            freezer = find_number(tag)\n",
    "    return [link, title, price, width, depth, height, volume, freezer]  \n",
    "    \n",
    "r = requests.get(\"https://beru.ru/catalog/kholodilniki/79958/list?cvredirect=3&suggest_reqId=83526016473955609954771572320629&text=%D0%A1%D0%B0%D1%80%D0%B0%D1%82%D0%BE%D0%B2\")\n",
    "html = BeautifulSoup(r.content)\n",
    "links = html.find_all(\"a\", {\"class\": \"grid-snippet__react-link\"})\n",
    "data = []\n",
    "for link in links:\n",
    "    if link[\"href\"] and link.get_text().find(\"Саратов\") > -1:\n",
    "        data.append(find_data(link[\"href\"]))\n",
    "\n",
    "conn = sqlite3.connect(\"sqlite/data.db3\")\n",
    "db = conn.cursor()\n",
    "db.execute(\"\"\"CREATE TABLE beru_goods\n",
    "            (id INTEGER PRIMARY KEY AUTOINCREMENT not null,url text,title text default '',\n",
    "             price INTEGER default 0,\n",
    "             width FLOAT default 0.0,\n",
    "             depth FLOAT default 0.0,\n",
    "             height FLOAT default 0.0,\n",
    "             volume INTEGER default 0,\n",
    "             freezer INTEGER default 0)\"\"\")\n",
    "conn.commit()\n",
    "db.executemany(\"\"\"INSERT INTO beru_goods (url, title, price, width, depth, height, volume, freezer)\n",
    "               VALUES (?, ?, ?, ?, ?, ?, ?, ?)\"\"\", data)\n",
    "conn.commit()\n",
    "print (db.execute(\"SELECT * FROM beru_goods\").fetchall())\n",
    "db.close()"
   ]
  },
  {
   "cell_type": "code",
   "execution_count": null,
   "id": "76546a6e",
   "metadata": {},
   "outputs": [],
   "source": []
  }
 ],
 "metadata": {
  "kernelspec": {
   "display_name": "Python 3 (ipykernel)",
   "language": "python",
   "name": "python3"
  },
  "language_info": {
   "codemirror_mode": {
    "name": "ipython",
    "version": 3
   },
   "file_extension": ".py",
   "mimetype": "text/x-python",
   "name": "python",
   "nbconvert_exporter": "python",
   "pygments_lexer": "ipython3",
   "version": "3.9.6"
  }
 },
 "nbformat": 4,
 "nbformat_minor": 5
}
