{
 "cells": [
  {
   "cell_type": "code",
   "execution_count": 1,
   "id": "d2f19209",
   "metadata": {},
   "outputs": [
    {
     "name": "stdout",
     "output_type": "stream",
     "text": [
      "С/%\n",
      "11.0    ИКРУСС-ИНВ\n",
      "Name: Тикер, dtype: object\n"
     ]
    }
   ],
   "source": [
    "import pandas as pd\n",
    "import matplotlib.pyplot as plt\n",
    "from bs4 import BeautifulSoup\n",
    "import requests\n",
    "%matplotlib inline\n",
    "r=requests.get(\"https://mfd.ru/marketdata/?id=5&group=16&mode=3&sortHeader=name&sortOrder=1&selectedDate=01.11.2019\")\n",
    "html=BeautifulSoup(r.content) \n",
    "table=html.find(\"table\",{\"id\":\"marketDataList\"})\n",
    "rows=[]\n",
    "trs=table.find_all(\"tr\")\n",
    "for tr in trs:\n",
    "    tr=[td.get_text(strip=True) for td in tr.find_all(\"td\")]\n",
    "    if len(tr)>0:\n",
    "        rows.append(tr)\n",
    "\n",
    "data=pd.DataFrame(rows,columns=[\"Тикер\", \"Дата\",\"Сделки\",\"С/рост\",\"С/%\",\"Закрытие\",\"Открытие\", \"мин\",\"мах\",\"avg\",\"шт\", \"руб\",\"Всего\"])\n",
    "data=data[data[\"Сделки\"]!=\"N/A\"]\n",
    "data[\"С/%\"]=data[\"С/%\"].str.replace(\"−\",\"-\").str.replace(\"%\",\"\").astype(float)\n",
    "data=data.set_index(\"С/%\")\n",
    "data=data.sort_index(ascending=False)\n",
    "print(data[\"Тикер\"].head(1))"
   ]
  },
  {
   "cell_type": "code",
   "execution_count": null,
   "id": "fa80e842",
   "metadata": {},
   "outputs": [],
   "source": []
  }
 ],
 "metadata": {
  "kernelspec": {
   "display_name": "Python 3 (ipykernel)",
   "language": "python",
   "name": "python3"
  },
  "language_info": {
   "codemirror_mode": {
    "name": "ipython",
    "version": 3
   },
   "file_extension": ".py",
   "mimetype": "text/x-python",
   "name": "python",
   "nbconvert_exporter": "python",
   "pygments_lexer": "ipython3",
   "version": "3.9.6"
  }
 },
 "nbformat": 4,
 "nbformat_minor": 5
}
