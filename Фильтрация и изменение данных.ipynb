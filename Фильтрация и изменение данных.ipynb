{
 "cells": [
  {
   "cell_type": "code",
   "execution_count": 1,
   "id": "0e0557cb",
   "metadata": {},
   "outputs": [
    {
     "name": "stdout",
     "output_type": "stream",
     "text": [
      "                              2017\n",
      "Регион                            \n",
      "Дальневосточный фед.округ    13.03\n",
      "Приволжский фед.округ        16.12\n",
      "Северо-Западный фед.округ    17.52\n",
      "Северо-Кавказский фед.округ   4.33\n",
      "Сибирский фед.округ          13.35\n",
      "Уральский фед.округ          16.89\n",
      "Центральный фед.округ        15.76\n",
      "Южный фед.округ              11.10\n"
     ]
    }
   ],
   "source": [
    "import pandas as pd\n",
    "data=pd.read_csv(\"https://video.ittensive.com/python-advanced/internet-2017.csv\", na_values=\"NA\", decimal=\",\", skiprows=1, names=[\"Регион\",\"2017\"])\n",
    "area_indexes=data[data[\"Регион\"].str.contains(\"округ\")].index\n",
    "data_areas_index=[(lambda n: \"AREA\" if n in area_indexes else \"REGION\")(i) for i in range(0, len(data.index))]\n",
    "data[\"Тип\"]=data_areas_index\n",
    "data=data.set_index([\"Тип\", \"Регион\"])\n",
    "data=data.sort_index()\n",
    "areas=data.loc[\"AREA\"]\n",
    "print(areas)"
   ]
  },
  {
   "cell_type": "code",
   "execution_count": null,
   "id": "18d32f67",
   "metadata": {},
   "outputs": [],
   "source": []
  }
 ],
 "metadata": {
  "kernelspec": {
   "display_name": "Python 3 (ipykernel)",
   "language": "python",
   "name": "python3"
  },
  "language_info": {
   "codemirror_mode": {
    "name": "ipython",
    "version": 3
   },
   "file_extension": ".py",
   "mimetype": "text/x-python",
   "name": "python",
   "nbconvert_exporter": "python",
   "pygments_lexer": "ipython3",
   "version": "3.9.6"
  }
 },
 "nbformat": 4,
 "nbformat_minor": 5
}
